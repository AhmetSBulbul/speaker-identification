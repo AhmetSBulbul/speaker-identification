{
 "cells": [
  {
   "cell_type": "code",
   "execution_count": 1,
   "metadata": {},
   "outputs": [],
   "source": [
    "import pyaudio\n",
    "import os\n",
    "import wave"
   ]
  },
  {
   "cell_type": "code",
   "execution_count": 2,
   "metadata": {},
   "outputs": [],
   "source": [
    "def record_audio(output_file_path):\n",
    "    FORMAT = pyaudio.paInt16\n",
    "    CHANNELS = 1\n",
    "    RATE = 44100\n",
    "    CHUNK = 512\n",
    "    RECORD_SECONDS = 10\n",
    "    device_index = 2\n",
    "    audio = pyaudio.PyAudio()\n",
    "    print(\"----------------------record device list---------------------\")\n",
    "    info = audio.get_host_api_info_by_index(0)\n",
    "    numdevices = info.get('deviceCount')\n",
    "    for i in range(0, numdevices):\n",
    "            if (audio.get_device_info_by_host_api_device_index(0, i).get('maxInputChannels')) > 0:\n",
    "                print(\"Input Device id \", i, \" - \", audio.get_device_info_by_host_api_device_index(0, i).get('name'))\n",
    "    print(\"-------------------------------------------------------------\")\n",
    "    index = int(input())\n",
    "    print(\"recording via index \"+str(index))\n",
    "    stream = audio.open(format=FORMAT, channels=CHANNELS,\n",
    "                    rate=RATE, input=True,input_device_index = index,\n",
    "                    frames_per_buffer=CHUNK)\n",
    "    print (\"recording started\")\n",
    "    Recordframes = []\n",
    "    for i in range(0, int(RATE / CHUNK * RECORD_SECONDS)):\n",
    "        data = stream.read(CHUNK)\n",
    "        Recordframes.append(data)\n",
    "    print (\"recording stopped\")\n",
    "    stream.stop_stream()\n",
    "    stream.close()\n",
    "    audio.terminate()\n",
    "    waveFile = wave.open(output_file_path, 'wb')\n",
    "    waveFile.setnchannels(CHANNELS)\n",
    "    waveFile.setsampwidth(audio.get_sample_size(FORMAT))\n",
    "    waveFile.setframerate(RATE)\n",
    "    waveFile.writeframes(b''.join(Recordframes))\n",
    "    waveFile.close()"
   ]
  },
  {
   "cell_type": "code",
   "execution_count": 3,
   "metadata": {},
   "outputs": [
    {
     "name": "stdout",
     "output_type": "stream",
     "text": [
      "/Users/ahmetbulbul/ai/speaker-identification\n"
     ]
    }
   ],
   "source": [
    "path = os.getcwd()\n",
    "print(path)"
   ]
  },
  {
   "cell_type": "code",
   "execution_count": 12,
   "metadata": {},
   "outputs": [
    {
     "name": "stdout",
     "output_type": "stream",
     "text": [
      "/Users/ahmetbulbul/ai/speaker-identification/training_set\n",
      "/Users/ahmetbulbul/ai/speaker-identification/testing_set\n"
     ]
    }
   ],
   "source": [
    "TRAINING_PATH = os.path.join(path, \"training_set\")\n",
    "TESTING_PATH = os.path.join(path, \"testing_set\")\n",
    "print(TRAINING_PATH)\n",
    "print(TESTING_PATH)\n"
   ]
  },
  {
   "cell_type": "code",
   "execution_count": 13,
   "metadata": {},
   "outputs": [
    {
     "name": "stdout",
     "output_type": "stream",
     "text": [
      "----------------------record device list---------------------\n",
      "Input Device id  0  -  iPhone 12 Test Microphone\n",
      "Input Device id  1  -  MacBook Pro Microphone\n",
      "-------------------------------------------------------------\n",
      "recording via index 0\n",
      "recording started\n",
      "recording stopped\n"
     ]
    }
   ],
   "source": [
    "Name = input(\"Enter your name: \")\n",
    "output_file_path = os.path.join(TRAINING_PATH, Name+\".wav\")\n",
    "record_audio(output_file_path)"
   ]
  },
  {
   "cell_type": "code",
   "execution_count": 14,
   "metadata": {},
   "outputs": [],
   "source": [
    "import numpy as np\n",
    "import matplotlib.pyplot as plt\n",
    "from scipy.io import wavfile\n"
   ]
  },
  {
   "cell_type": "code",
   "execution_count": 15,
   "metadata": {},
   "outputs": [
    {
     "name": "stdout",
     "output_type": "stream",
     "text": [
      "All data:  [1544 1948 1493 ...    6    5    2]\n",
      "Number of sample in data:  440832\n",
      "Number of sample in c:  499\n"
     ]
    },
    {
     "data": {
      "image/png": "[encoded data removed]",
      "text/plain": [
       "<Figure size 640x480 with 1 Axes>"
      ]
     },
     "metadata": {},
     "output_type": "display_data"
    }
   ],
   "source": [
    "## Histogram\n",
    "rate, data = wavfile.read(output_file_path)\n",
    "print(\"All data: \", data)\n",
    "print(\"Number of sample in data: \", len(data))\n",
    "\n",
    "c=data[0:499]\n",
    "print(\"Number of sample in c: \", len(c))\n",
    "\n",
    "plt.hist(c, bins='auto')\n",
    "plt.title(\"Histogram with 'auto' bins\")\n",
    "plt.show()"
   ]
  },
  {
   "cell_type": "code",
   "execution_count": null,
   "metadata": {},
   "outputs": [],
   "source": []
  },
  {
   "cell_type": "code",
   "execution_count": null,
   "metadata": {},
   "outputs": [],
   "source": []
  }
 ],
 "metadata": {
  "kernelspec": {
   "display_name": "speaker-identification-kunOUyn2",
   "language": "python",
   "name": "python3"
  },
  "language_info": {
   "codemirror_mode": {
    "name": "ipython",
    "version": 3
   },
   "file_extension": ".py",
   "mimetype": "text/x-python",
   "name": "python",
   "nbconvert_exporter": "python",
   "pygments_lexer": "ipython3",
   "version": "3.11.3"
  },
  "orig_nbformat": 4
 },
 "nbformat": 4,
 "nbformat_minor": 2
}
