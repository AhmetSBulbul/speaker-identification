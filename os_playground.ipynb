{
 "cells": [
  {
   "cell_type": "code",
   "execution_count": 1,
   "metadata": {},
   "outputs": [],
   "source": [
    "import os"
   ]
  },
  {
   "cell_type": "code",
   "execution_count": 6,
   "metadata": {},
   "outputs": [
    {
     "name": "stdout",
     "output_type": "stream",
     "text": [
      "True\n"
     ]
    }
   ],
   "source": [
    "print(os.path.exists(\"./data_set\"))"
   ]
  },
  {
   "cell_type": "code",
   "execution_count": 14,
   "metadata": {},
   "outputs": [],
   "source": [
    "try:\n",
    "    target = os.path.join(\"./new_dir\", \"label\")\n",
    "    os.mkdir(target)\n",
    "    train_path = os.path.join(target, 'train/')\n",
    "    test_path = os.path.join(target, 'test/')\n",
    "    os.mkdir(train_path)\n",
    "    os.mkdir(test_path)\n",
    "except FileExistsError:\n",
    "    print(\"Directory already exists\")\n",
    "except:\n",
    "    print(\"Error creating directory\")"
   ]
  },
  {
   "cell_type": "code",
   "execution_count": 24,
   "metadata": {},
   "outputs": [
    {
     "name": "stdout",
     "output_type": "stream",
     "text": [
      "['trained_models_old', 'speaker_identification', '.DS_Store', 'SpeakerIdentificationCli.py', 'testing_set', 'recorder.py', 'uploads', 'trained_models', 'playground.ipynb', 'README.md', 'Pipfile', 'testing_set_addition.txt', 'training_set', 'new_dir', 'app.py', 'training_set_addition.txt', 'Pipfile.lock', 'data_set', 'os_playground.ipynb']\n",
      "['/Users/ahmetbulbul/ai/speaker-identification/trained_models_old', '/Users/ahmetbulbul/ai/speaker-identification/speaker_identification', '/Users/ahmetbulbul/ai/speaker-identification/.DS_Store', '/Users/ahmetbulbul/ai/speaker-identification/SpeakerIdentificationCli.py', '/Users/ahmetbulbul/ai/speaker-identification/testing_set', '/Users/ahmetbulbul/ai/speaker-identification/recorder.py', '/Users/ahmetbulbul/ai/speaker-identification/uploads', '/Users/ahmetbulbul/ai/speaker-identification/trained_models', '/Users/ahmetbulbul/ai/speaker-identification/playground.ipynb', '/Users/ahmetbulbul/ai/speaker-identification/README.md', '/Users/ahmetbulbul/ai/speaker-identification/Pipfile', '/Users/ahmetbulbul/ai/speaker-identification/testing_set_addition.txt', '/Users/ahmetbulbul/ai/speaker-identification/training_set', '/Users/ahmetbulbul/ai/speaker-identification/new_dir', '/Users/ahmetbulbul/ai/speaker-identification/app.py', '/Users/ahmetbulbul/ai/speaker-identification/training_set_addition.txt', '/Users/ahmetbulbul/ai/speaker-identification/Pipfile.lock', '/Users/ahmetbulbul/ai/speaker-identification/data_set', '/Users/ahmetbulbul/ai/speaker-identification/os_playground.ipynb']\n"
     ]
    }
   ],
   "source": [
    "current_dir = os.getcwd()\n",
    "dirs = os.listdir(current_dir)\n",
    "print(dirs)\n",
    "paths = [os.path.join(current_dir, d) for d in dirs]\n",
    "print(paths)"
   ]
  },
  {
   "cell_type": "code",
   "execution_count": 18,
   "metadata": {},
   "outputs": [
    {
     "name": "stdout",
     "output_type": "stream",
     "text": [
      "/Users/ahmetbulbul/ai/speaker-identification\n",
      "/Users/ahmetbulbul/ai\n"
     ]
    }
   ],
   "source": [
    "current_dir = os.getcwd()\n",
    "print(current_dir)\n",
    "parent_dir = os.path.dirname(current_dir)\n",
    "print(parent_dir)\n"
   ]
  },
  {
   "cell_type": "code",
   "execution_count": null,
   "metadata": {},
   "outputs": [],
   "source": [
    "paths = "
   ]
  }
 ],
 "metadata": {
  "kernelspec": {
   "display_name": "speaker-identification-kunOUyn2",
   "language": "python",
   "name": "python3"
  },
  "language_info": {
   "codemirror_mode": {
    "name": "ipython",
    "version": 3
   },
   "file_extension": ".py",
   "mimetype": "text/x-python",
   "name": "python",
   "nbconvert_exporter": "python",
   "pygments_lexer": "ipython3",
   "version": "3.11.3"
  },
  "orig_nbformat": 4
 },
 "nbformat": 4,
 "nbformat_minor": 2
}
